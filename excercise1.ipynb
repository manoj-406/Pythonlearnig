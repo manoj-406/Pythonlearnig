{
 "cells": [
  {
   "cell_type": "code",
   "execution_count": 6,
   "metadata": {},
   "outputs": [
    {
     "name": "stdout",
     "output_type": "stream",
     "text": [
      "16.143680759399572\n"
     ]
    }
   ],
   "source": [
    "# Calculate loan emi\n",
    "\n",
    "Principle = 100\n",
    "Rate = 0.12 \n",
    "Number_of_monthly_payments = 12\n",
    "EMI = (Principle * Rate * (1 + Rate) ** Number_of_monthly_payments) / ((1 + Rate) ** Number_of_monthly_payments - 1)\n",
    "print(EMI)"
   ]
  },
  {
   "cell_type": "code",
   "execution_count": 8,
   "metadata": {},
   "outputs": [
    {
     "name": "stdout",
     "output_type": "stream",
     "text": [
      "212.0\n"
     ]
    }
   ],
   "source": [
    "# Temparature conversion from degree to farnheit\n",
    "\n",
    "Temperature_in_degrees = 100\n",
    "Temperature_in_farnheit = (Temperature_in_degrees * (9/5)) + 32\n",
    "print(Temperature_in_farnheit)"
   ]
  },
  {
   "cell_type": "code",
   "execution_count": 9,
   "metadata": {},
   "outputs": [
    {
     "name": "stdout",
     "output_type": "stream",
     "text": [
      "7820\n"
     ]
    }
   ],
   "source": [
    "# Number of seconds so far\n",
    "\n",
    "Hours = 2\n",
    "Minutes = 10\n",
    "Seconds = 20\n",
    "Total_time_in_sec = (Hours*60*60) + (Minutes*60) + Seconds\n",
    "print(Total_time_in_sec)\n"
   ]
  },
  {
   "cell_type": "code",
   "execution_count": 10,
   "metadata": {},
   "outputs": [
    {
     "name": "stdout",
     "output_type": "stream",
     "text": [
      "6.2137119223733395\n"
     ]
    }
   ],
   "source": [
    "# Kilometres to miles\n",
    "Kilometers = 10\n",
    "Miles = Kilometers / 1.609344\n",
    "print (Miles)"
   ]
  },
  {
   "cell_type": "code",
   "execution_count": 11,
   "metadata": {},
   "outputs": [
    {
     "name": "stdout",
     "output_type": "stream",
     "text": [
      "11.0231\n"
     ]
    }
   ],
   "source": [
    "# Kilograms to pounds\n",
    "Kilograms = 5\n",
    "Pounds = Kilograms * 2.20462\n",
    "print(Pounds)"
   ]
  }
 ],
 "metadata": {
  "kernelspec": {
   "display_name": "Python 3",
   "language": "python",
   "name": "python3"
  },
  "language_info": {
   "codemirror_mode": {
    "name": "ipython",
    "version": 3
   },
   "file_extension": ".py",
   "mimetype": "text/x-python",
   "name": "python",
   "nbconvert_exporter": "python",
   "pygments_lexer": "ipython3",
   "version": "3.12.5"
  }
 },
 "nbformat": 4,
 "nbformat_minor": 2
}
