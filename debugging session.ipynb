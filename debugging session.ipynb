{
 "cells": [
  {
   "cell_type": "markdown",
   "metadata": {},
   "source": [
    "# Check for a Pangram\n",
    "Problem: Write a function is_pangram(s) that checks whether a given string s is a pangram (contains every letter of the alphabet at least once).\n",
    "\n",
    "Expected Output:\n",
    "\n",
    "is_pangram(\"The quick brown fox jumps over the lazy dog\")\n",
    "Output: True"
   ]
  },
  {
   "cell_type": "code",
   "execution_count": null,
   "metadata": {},
   "outputs": [],
   "source": [
    "\n"
   ]
  },
  {
   "cell_type": "code",
   "execution_count": 16,
   "metadata": {},
   "outputs": [
    {
     "name": "stdout",
     "output_type": "stream",
     "text": [
      "15\n"
     ]
    }
   ],
   "source": [
    "def second_largest(lst):\n",
    "    \"\"\"this is to generate second largets item from the list\n",
    "\n",
    "    Args:\n",
    "        lst (str): input\n",
    "    \"\"\"\n",
    "    lst.sort() \n",
    "    return lst[-2]\n",
    "\n",
    "\n",
    "l = [10, 30, 15]\n",
    "print(second_largest(l))"
   ]
  },
  {
   "cell_type": "code",
   "execution_count": 15,
   "metadata": {},
   "outputs": [
    {
     "name": "stdout",
     "output_type": "stream",
     "text": [
      "[2, 3, 5, 7, 11, 13]\n"
     ]
    }
   ],
   "source": [
    "\"\"\"we need to genarate primes in given range\n",
    "\"\"\"\n",
    "def generate_primes(n):\n",
    "    prime_list = [] \n",
    "    for num in range(2, n + 1):  # Check each number from 2 to n\n",
    "        prime = True  # Assume the number is prime\n",
    "        for index in range(2, int(num**0.5) + 1):  # Check divisibility up to the square root of num\n",
    "            if num % index == 0:  # If divisible, it's not a prime\n",
    "                prime = False\n",
    "                break  # No need to check further if we found a divisor\n",
    "        if prime:  # If the number is prime, add it to the list\n",
    "            prime_list.append(num)\n",
    "    return prime_list  # Return the list of prime numbers\n",
    "\n",
    "n = 15\n",
    "print(generate_primes(n))"
   ]
  },
  {
   "cell_type": "code",
   "execution_count": 18,
   "metadata": {},
   "outputs": [
    {
     "name": "stdout",
     "output_type": "stream",
     "text": [
      "2.0\n"
     ]
    }
   ],
   "source": [
    "def average(lst):\n",
    "    if len(lst) == 0:\n",
    "        return \"invalid\"\n",
    "    return sum(lst)/len(lst)\n",
    "\n",
    "print(average([2,2]))\n"
   ]
  },
  {
   "cell_type": "code",
   "execution_count": 19,
   "metadata": {},
   "outputs": [
    {
     "name": "stdout",
     "output_type": "stream",
     "text": [
      "[1, 3, 4]\n"
     ]
    }
   ],
   "source": [
    "\n",
    "def unique_items(lst):\n",
    "    unique_set = []\n",
    "    for item in lst:\n",
    "        if item not in unique_set:\n",
    "            unique_set.append(item)\n",
    "    return unique_set\n",
    "\n",
    "\n",
    "lst = [1, 1, 3, 4]\n",
    "print(unique_items(lst))"
   ]
  },
  {
   "cell_type": "code",
   "execution_count": 22,
   "metadata": {},
   "outputs": [
    {
     "name": "stdout",
     "output_type": "stream",
     "text": [
      "[2, 4, 10]\n"
     ]
    }
   ],
   "source": [
    "def double_list_value(lst):\n",
    "    for index in range(len(lst)):\n",
    "        lst[index] *= 2\n",
    "        \n",
    "    return lst\n",
    "\n",
    "\n",
    "\n",
    "print(double_list_value([1,2,5]))"
   ]
  }
 ],
 "metadata": {
  "kernelspec": {
   "display_name": "Python 3",
   "language": "python",
   "name": "python3"
  },
  "language_info": {
   "codemirror_mode": {
    "name": "ipython",
    "version": 3
   },
   "file_extension": ".py",
   "mimetype": "text/x-python",
   "name": "python",
   "nbconvert_exporter": "python",
   "pygments_lexer": "ipython3",
   "version": "3.12.5"
  }
 },
 "nbformat": 4,
 "nbformat_minor": 2
}
