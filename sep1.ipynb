{
 "cells": [
  {
   "cell_type": "code",
   "execution_count": 1,
   "metadata": {},
   "outputs": [],
   "source": [
    "\"\"\"this is a python program to perform fizzbuzz\n",
    "\n",
    "the problem statement is\n",
    "Write a function called fizzbuzz_variant(n) that takes an integer n and returns a list of numbers from 1 to n. For multiples of three, append \"Fizz\" instead of the number, for multiples of five append \"Buzz\", and for multiples of both three and five append \"FizzBuzz\".\n",
    "\"\"\"\n",
    "\n",
    "def fizzbuzz(n):\n",
    "    \"\"\"fuction for fizzbuzz\n",
    "\n",
    "    Args:\n",
    "        n (_int_): _number_\n",
    "\n",
    "    Returns:\n",
    "        _type_: _description_\n",
    "    \"\"\"\n",
    "    l = []\n",
    "    for index in range(1, n+1):\n",
    "        if index % 3 == 0 and index % 5 == 0:\n",
    "            l.append( \"FizzBuzz\")\n",
    "        elif index % 5 == 0:\n",
    "            l.append(\"Buzz\")\n",
    "        elif index % 3 == 0:\n",
    "            l.append(\"Fizz\")\n",
    "        else:\n",
    "            l.append(index)  \n",
    "    return l       \n",
    "\n"
   ]
  },
  {
   "cell_type": "code",
   "execution_count": 2,
   "metadata": {},
   "outputs": [
    {
     "name": "stdout",
     "output_type": "stream",
     "text": [
      "[1, 2, 'Fizz', 4, 'Buzz', 'Fizz', 7, 8, 'Fizz', 'Buzz', 11, 'Fizz', 13, 14, 'FizzBuzz', 16, 17, 'Fizz', 19, 'Buzz', 'Fizz', 22, 23, 'Fizz', 'Buzz']\n"
     ]
    }
   ],
   "source": [
    "GIVE_OUTPUT = 25\n",
    "print(fizzbuzz(GIVE_OUTPUT))"
   ]
  }
 ],
 "metadata": {
  "kernelspec": {
   "display_name": "Python 3",
   "language": "python",
   "name": "python3"
  },
  "language_info": {
   "codemirror_mode": {
    "name": "ipython",
    "version": 3
   },
   "file_extension": ".py",
   "mimetype": "text/x-python",
   "name": "python",
   "nbconvert_exporter": "python",
   "pygments_lexer": "ipython3",
   "version": "3.12.5"
  }
 },
 "nbformat": 4,
 "nbformat_minor": 2
}
