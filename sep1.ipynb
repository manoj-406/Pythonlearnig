{
 "cells": [
  {
   "cell_type": "code",
   "execution_count": 1,
   "metadata": {},
   "outputs": [],
   "source": [
    "\"\"\"this is a python program to perform fizzbuzz\n",
    "\n",
    "the problem statement is\n",
    "Write a function called fizzbuzz_variant(n) that takes an integer n and returns a list of numbers from 1 to n. For multiples of three, append \"Fizz\" instead of the number, for multiples of five append \"Buzz\", and for multiples of both three and five append \"FizzBuzz\".\n",
    "\"\"\"\n",
    "\n",
    "def fizzbuzz(n):\n",
    "    \"\"\"fuction for fizzbuzz\n",
    "\n",
    "    Args:\n",
    "        n (_int_): _number_\n",
    "\n",
    "    Returns:\n",
    "        _type_: _description_\n",
    "    \"\"\"\n",
    "    l = []\n",
    "    for index in range(1, n+1):\n",
    "        if index % 3 == 0 and index % 5 == 0:\n",
    "            l.append( \"FizzBuzz\")\n",
    "        elif index % 5 == 0:\n",
    "            l.append(\"Buzz\")\n",
    "        elif index % 3 == 0:\n",
    "            l.append(\"Fizz\")\n",
    "        else:\n",
    "            l.append(index)  \n",
    "    return l       \n",
    "\n"
   ]
  },
  {
   "cell_type": "code",
   "execution_count": 2,
   "metadata": {},
   "outputs": [
    {
     "name": "stdout",
     "output_type": "stream",
     "text": [
      "[1, 2, 'Fizz', 4, 'Buzz', 'Fizz', 7, 8, 'Fizz', 'Buzz', 11, 'Fizz', 13, 14, 'FizzBuzz', 16, 17, 'Fizz', 19, 'Buzz', 'Fizz', 22, 23, 'Fizz', 'Buzz']\n"
     ]
    }
   ],
   "source": [
    "GIVE_OUTPUT = 25\n",
    "print(fizzbuzz(GIVE_OUTPUT))"
   ]
  },
  {
   "cell_type": "markdown",
   "metadata": {},
   "source": [
    "## List comprehensions\n",
    "List comprehension offers a concise way to create a new list based on the values of an existing list.\n",
    "\n",
    "## Syntax of List Comprehension\n",
    "\n",
    "' [expression for item in list if condition == True] '\n",
    "\n",
    "### example:\n",
    "Suppose we have a list of numbers and we desire to create a new list containing the double value of each element in the list.\n",
    "numbers = [1, 2, 3, 4]\n",
    "\n",
    "# list comprehension to create new list\n",
    "doubled_numbers = [num * 2 for num in numbers]\n",
    "\n",
    "print(doubled_numbers)\n"
   ]
  },
  {
   "cell_type": "code",
   "execution_count": 16,
   "metadata": {},
   "outputs": [
    {
     "name": "stdout",
     "output_type": "stream",
     "text": [
      "[1, 3, 5, 7, 9]\n"
     ]
    }
   ],
   "source": [
    "\"\"\"example progarm for performing list comprehensions\n",
    "\"\"\"\n",
    "values = list(range(1,11))\n",
    "\"\"\"there is a list of values now we will perform some operations to that list using list comprehensions.\n",
    "\"\"\"\n",
    "\n",
    "cubes = [value ** 3 for value in values] #perfom cubes for numbers in that list\n",
    "even = [value % 2 == 0 for  value in values ] #this gives weather the numbers in that list is even or odd if even it prints \"True\" else \"False\"\n",
    "even_nums = [items for items in values if items % 2 == 0] #To print even numers in that list \n",
    "odd_nums = [items for items in values if items % 2 != 0] #To print odd numers in that list \n",
    "print(odd_nums)"
   ]
  },
  {
   "cell_type": "code",
   "execution_count": 24,
   "metadata": {},
   "outputs": [
    {
     "name": "stdout",
     "output_type": "stream",
     "text": [
      "['e', 'o', 'o', 'o', 'o', 'o', 'i']\n"
     ]
    }
   ],
   "source": [
    "\"\"\" List Comprehension with String\n",
    "\"\"\"\n",
    "sentence = \"Helloo Good Morning\"\n",
    "vowels = \"aeiouAEIOU\"\n",
    "\n",
    "final = [items for items in sentence if items in vowels] \n",
    "\"\"\"this compares the scentence and vowels and returns the vowels in scentence\n",
    "\n",
    "\"\"\"\n",
    "print (final)\n"
   ]
  },
  {
   "cell_type": "markdown",
   "metadata": {},
   "source": [
    "## Dictionary Comprehensions\n",
    "Dictionary comprehension is an elegant and concise way to create dictionaries.\n",
    "\n",
    "## syntax\n",
    " ' dictionary = {key: value for vars in iterable} '\n",
    "\n",
    "### example \n",
    "'actual code without dictionary comprehension'\n",
    "' square_dict = dict()\n",
    "for num in range(1, 11):\n",
    "    square_dict[num] = num*num\n",
    "print(square_dict)\n",
    "'\n",
    "\n",
    "\"\"\" code with dictionary comprehension \"\"\"\n",
    "'\n",
    "# dictionary comprehension example\n",
    "square_dict = {num: num*num for num in range(1, 11)}\n",
    "print(square_dict)\n",
    "\n",
    "'\n"
   ]
  },
  {
   "cell_type": "code",
   "execution_count": 25,
   "metadata": {},
   "outputs": [
    {
     "name": "stdout",
     "output_type": "stream",
     "text": [
      "{'milk': 81.6, 'eggs': 163.2, 'bread': 400.0}\n"
     ]
    }
   ],
   "source": [
    "\"\"\"sample programs for dictionary comprehension\n",
    "\"\"\"\n",
    "prices = {'milk': 1.02, 'eggs': 2.04, 'bread': 5.0}\n",
    "\n",
    "rupees = 80\n",
    "\n",
    "conv_price = {item:value * rupees for (item,value) in prices.items()}\n",
    "print (conv_price)"
   ]
  }
 ],
 "metadata": {
  "kernelspec": {
   "display_name": "Python 3",
   "language": "python",
   "name": "python3"
  },
  "language_info": {
   "codemirror_mode": {
    "name": "ipython",
    "version": 3
   },
   "file_extension": ".py",
   "mimetype": "text/x-python",
   "name": "python",
   "nbconvert_exporter": "python",
   "pygments_lexer": "ipython3",
   "version": "3.12.5"
  }
 },
 "nbformat": 4,
 "nbformat_minor": 2
}
