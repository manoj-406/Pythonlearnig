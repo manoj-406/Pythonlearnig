{
 "cells": [
  {
   "cell_type": "markdown",
   "metadata": {},
   "source": [
    "# FizzBuzz Variation\n",
    "Problem: Write a function called fizzbuzz_variant(n) that takes an integer n and returns a list of numbers from 1 to n. For multiples of three, append \"Fizz\" instead of the number, for multiples of five append \"Buzz\", and for multiples of both three and five append \"FizzBuzz\".\n",
    "\n",
    "input: fizzbuzz_variant(15)\n",
    "\n",
    "Expected Output: [1, 2, \"Fizz\", 4, \"Buzz\", \"Fizz\", 7, 8, \"Fizz\", \"Buzz\", 11, \"Fizz\", 13, 14, \"FizzBuzz\"]"
   ]
  },
  {
   "cell_type": "code",
   "execution_count": 49,
   "metadata": {},
   "outputs": [],
   "source": [
    "def fizzbuzz(n):\n",
    "    \"\"\"fuction for fizzbuzz\n",
    "\n",
    "    Args:\n",
    "        n (_int_): _number_\n",
    "\n",
    "    Returns:\n",
    "        _type_: _description_\n",
    "    \"\"\"\n",
    "    l = []\n",
    "    for index in range(1, n+1):\n",
    "        if index % 3 == 0 and index % 5 == 0:\n",
    "            l.append( \"FizzBuzz\")\n",
    "        elif index % 5 == 0:\n",
    "            l.append(\"Buzz\")\n",
    "        elif index % 3 == 0:\n",
    "            l.append(\"Fizz\")\n",
    "        else:\n",
    "            l.append(index)  \n",
    "    return l       \n",
    "\n"
   ]
  },
  {
   "cell_type": "code",
   "execution_count": 51,
   "metadata": {},
   "outputs": [
    {
     "name": "stdout",
     "output_type": "stream",
     "text": [
      "[1, 2, 'Fizz', 4, 'Buzz', 'Fizz', 7, 8, 'Fizz', 'Buzz', 11, 'Fizz', 13, 14, 'FizzBuzz', 16, 17, 'Fizz', 19, 'Buzz', 'Fizz', 22, 23, 'Fizz', 'Buzz']\n"
     ]
    }
   ],
   "source": [
    "GIVE_OUTPUT = 25\n",
    "print(fizzbuzz(GIVE_OUTPUT))"
   ]
  },
  {
   "cell_type": "markdown",
   "metadata": {},
   "source": [
    "# List Comprehension Practice\n",
    "Problem: Create a function squares_of_even_numbers(nums) that takes a list of integers and returns a list of the squares of all even numbers in the list using list comprehension.\n",
    "\n",
    "squares_of_even_numbers([1, 2, 3, 4, 5, 6])\n",
    "\n",
    "Expected Output: [4, 16, 36]"
   ]
  },
  {
   "cell_type": "code",
   "execution_count": 18,
   "metadata": {},
   "outputs": [],
   "source": [
    "def squares(nums):\n",
    "    op = [items ** 2 for items in nums if items % 2 == 0]\n",
    "    #evensq =  op ** 2\n",
    "    return op\n"
   ]
  },
  {
   "cell_type": "code",
   "execution_count": 19,
   "metadata": {},
   "outputs": [
    {
     "name": "stdout",
     "output_type": "stream",
     "text": [
      "[1, 2, 3, 4, 5, 6]\n",
      "[4, 16, 36]\n"
     ]
    }
   ],
   "source": [
    "number = list(range(1,7))\n",
    "print(number)\n",
    "print (squares(number))"
   ]
  },
  {
   "cell_type": "markdown",
   "metadata": {},
   "source": [
    "# Palindrome Checker\n",
    "Problem: Write a function is_palindrome(s) that takes a string s and returns True if it is a palindrome (reads the same forwards and backwards), and False otherwise.\n",
    "\n",
    "is_palindrome(\"racecar\")\n",
    "\n",
    "Expected Output:\n",
    "Output: True"
   ]
  },
  {
   "cell_type": "code",
   "execution_count": 45,
   "metadata": {},
   "outputs": [],
   "source": [
    "def is_palindrome(s):\n",
    "    s = s.lower()\n",
    "    d = s[::-1]\n",
    "    if d == s:\n",
    "        return True\n",
    "    else:\n",
    "        return False"
   ]
  },
  {
   "cell_type": "code",
   "execution_count": 47,
   "metadata": {},
   "outputs": [
    {
     "name": "stdout",
     "output_type": "stream",
     "text": [
      "True\n"
     ]
    }
   ],
   "source": [
    "check = \"madaM\"\n",
    "print(is_palindrome(check))"
   ]
  },
  {
   "cell_type": "markdown",
   "metadata": {},
   "source": [
    "# Dictionary Manipulation\n",
    "Problem: Write a function invert_dict(d) that takes a dictionary d and returns a new dictionary where the keys are the values and the values are the keys.\n",
    "\n",
    "invert_dict({\"a\": 1, \"b\": 2, \"c\": 3})\n",
    "\n",
    "Expected Output:\n",
    "Output: {1: \"a\", 2: \"b\", 3: \"c\"}"
   ]
  },
  {
   "cell_type": "code",
   "execution_count": 61,
   "metadata": {},
   "outputs": [
    {
     "name": "stdout",
     "output_type": "stream",
     "text": [
      "{1: 'a', 2: 'b', 3: 'c'}\n"
     ]
    }
   ],
   "source": [
    "def invert_dict(d):\n",
    "    return {v: k for k, v in d.items()}\n",
    "\n",
    "print(invert_dict({\"a\": 1, \"b\": 2, \"c\": 3}))"
   ]
  },
  {
   "cell_type": "markdown",
   "metadata": {},
   "source": [
    "# String Manipulation\n",
    "Problem: Write a function vowel_count(s) that takes a string s and returns a dictionary with vowels as keys and their counts as values.\n",
    "\n",
    "vowel_count(\"hello world\")\n",
    "\n",
    "Output: {\"e\": 1, \"o\": 2}"
   ]
  },
  {
   "cell_type": "code",
   "execution_count": 42,
   "metadata": {},
   "outputs": [
    {
     "name": "stdout",
     "output_type": "stream",
     "text": [
      "{'o': 3, 'i': 1}\n"
     ]
    }
   ],
   "source": [
    "\n",
    "\"\"\"version 1\"\"\"\n",
    "def vowel_count(s):\n",
    "    result = {\n",
    "        \"a\": 0,\n",
    "        \"e\": 0,\n",
    "        \"i\": 0,\n",
    "        \"o\": 0,\n",
    "        \"u\": 0,\n",
    "    }\n",
    "    for c in s:\n",
    "        if c == 'a':\n",
    "            if c in result:\n",
    "                result[c] += 1\n",
    "        elif c == 'e':\n",
    "            if c in result:\n",
    "                result[c] += 1\n",
    "        elif c == 'i':\n",
    "            if c in result:\n",
    "                result[c] += 1\n",
    "        elif c == 'o':\n",
    "            if c in result:\n",
    "                result[c] += 1\n",
    "        elif c == 'u':\n",
    "            if c in result:\n",
    "                result[c] += 1\n",
    "    return result\n",
    "\n",
    "\n",
    "\n",
    "\"\"\"optimized code \n",
    "\"\"\"\n",
    "def vowels_count(s):\n",
    "    result = {}\n",
    "    vowels = \"aeiouAEIOU\"\n",
    "    for c in s:\n",
    "        for vowel in vowels:\n",
    "            if c == vowel:\n",
    "                if c in result:\n",
    "                    result[c] += 1\n",
    "                else:\n",
    "                    result[c] = 1\n",
    "    return result\n",
    "\n",
    "\n",
    "\"\"\"Version 3 with dict comprehension \n",
    "\"\"\"\n",
    "from collections import Counter\n",
    "def vowel_countt(s):\n",
    "    vowel_count = Counter(s)\n",
    "\n",
    "    return {k: v \n",
    "            for (k,v) in vowel_count.items() if k in \"aeiouAEIOU\" }\n",
    "\n",
    "    \n",
    "\n",
    "s = \"good morning\"\n",
    "print(vowel_countt(s))"
   ]
  },
  {
   "cell_type": "markdown",
   "metadata": {},
   "source": [
    "# Prime Number Checker\n",
    "Problem: Write a function is_prime(n) that returns True if n is a prime number and False otherwise.\n",
    "\n",
    "is_prime(11)\n",
    "\n",
    "Expected Output:\n",
    "Output: True"
   ]
  },
  {
   "cell_type": "code",
   "execution_count": 1,
   "metadata": {},
   "outputs": [],
   "source": [
    "def is_prime(n):\n",
    "    for i in range(2, n):\n",
    "        if n % i == 0:\n",
    "            return False\n",
    "        \n",
    "    return True"
   ]
  },
  {
   "cell_type": "code",
   "execution_count": 10,
   "metadata": {},
   "outputs": [
    {
     "name": "stdout",
     "output_type": "stream",
     "text": [
      "False\n"
     ]
    }
   ],
   "source": [
    "num = 9\n",
    "print(is_prime(num))"
   ]
  },
  {
   "cell_type": "markdown",
   "metadata": {},
   "source": [
    "# Fibonacci Sequence\n",
    "Problem: Write a function fibonacci(n) that returns the first n numbers in the Fibonacci sequence.\n",
    "\n",
    "fibonacci(7)\n",
    "\n",
    "Expected Output:\n",
    "Output: [0, 1, 1, 2, 3, 5, 8]"
   ]
  },
  {
   "cell_type": "code",
   "execution_count": 3,
   "metadata": {},
   "outputs": [
    {
     "name": "stdout",
     "output_type": "stream",
     "text": [
      "[0, 1, 1, 2, 3]\n"
     ]
    }
   ],
   "source": [
    "def fibonacci(n): \n",
    "    \"\"\"fibonacci series\n",
    "        \n",
    "    Args:\n",
    "        n (int): input number\n",
    "        \n",
    "    \"\"\"\n",
    "    list = [0,1]\n",
    "    if n == 1 or n == 0:\n",
    "        return 0\n",
    "    else:\n",
    "        for index in range(1, n-1):\n",
    "            list.append(list[index]+list[index-1])\n",
    "        return list\n",
    "    \n",
    "\n",
    "print(fibonacci(5))\n"
   ]
  },
  {
   "cell_type": "code",
   "execution_count": 16,
   "metadata": {},
   "outputs": [
    {
     "name": "stdout",
     "output_type": "stream",
     "text": [
      "[1, 3, 5, 7, 9]\n"
     ]
    }
   ],
   "source": [
    "\"\"\"example progarm for performing list comprehensions\n",
    "\"\"\"\n",
    "values = list(range(1,11))\n",
    "\"\"\"there is a list of values now we will perform some operations to that list using list comprehensions.\n",
    "\"\"\"\n",
    "\n",
    "cubes = [value ** 3 for value in values] #perfom cubes for numbers in that list\n",
    "even = [value % 2 == 0 for  value in values ] #this gives weather the numbers in that list is even or odd if even it prints \"True\" else \"False\"\n",
    "even_nums = [items for items in values if items % 2 == 0] #To print even numers in that list \n",
    "odd_nums = [items for items in values if items % 2 != 0] #To print odd numers in that list \n",
    "print(odd_nums)"
   ]
  },
  {
   "cell_type": "code",
   "execution_count": 24,
   "metadata": {},
   "outputs": [
    {
     "name": "stdout",
     "output_type": "stream",
     "text": [
      "['e', 'o', 'o', 'o', 'o', 'o', 'i']\n"
     ]
    }
   ],
   "source": [
    "\"\"\" List Comprehension with String\n",
    "\"\"\"\n",
    "sentence = \"Helloo Good Morning\"\n",
    "vowels = \"aeiouAEIOU\"\n",
    "\n",
    "final = [items for items in sentence if items in vowels] \n",
    "\"\"\"this compares the scentence and vowels and returns the vowels in scentence\n",
    "\n",
    "\"\"\"\n",
    "print (final)\n"
   ]
  },
  {
   "cell_type": "markdown",
   "metadata": {},
   "source": [
    "## Dictionary Comprehensions\n",
    "Dictionary comprehension is an elegant and concise way to create dictionaries.\n",
    "\n",
    "## syntax\n",
    " ' dictionary = {key: value for vars in iterable} '\n",
    "\n",
    "### example \n",
    "'actual code without dictionary comprehension'\n",
    "' square_dict = dict()\n",
    "for num in range(1, 11):\n",
    "    square_dict[num] = num*num\n",
    "print(square_dict)\n",
    "'\n",
    "\n",
    "\"\"\" code with dictionary comprehension \"\"\"\n",
    "'\n",
    "# dictionary comprehension example\n",
    "square_dict = {num: num*num for num in range(1, 11)}\n",
    "print(square_dict)\n",
    "\n",
    "'\n"
   ]
  },
  {
   "cell_type": "code",
   "execution_count": 25,
   "metadata": {},
   "outputs": [
    {
     "name": "stdout",
     "output_type": "stream",
     "text": [
      "{'milk': 81.6, 'eggs': 163.2, 'bread': 400.0}\n"
     ]
    }
   ],
   "source": [
    "\"\"\"sample programs for dictionary comprehension\n",
    "\"\"\"\n",
    "prices = {'milk': 1.02, 'eggs': 2.04, 'bread': 5.0}\n",
    "\n",
    "rupees = 80\n",
    "\n",
    "conv_price = {item:value * rupees for (item,value) in prices.items()}\n",
    "print (conv_price)"
   ]
  },
  {
   "cell_type": "markdown",
   "metadata": {},
   "source": [
    "# Lambda function in python\n",
    "\n",
    "A lambda function is a small, anonymous function in Python that can take any number of arguments but can only have one expression. It is defined using the lambda keyword followed by the arguments, a colon, and the expression to evaluate.\n",
    "\n",
    "## syntax\n",
    "' lambda arguments: expression '\n",
    "\n",
    "\n",
    "\n"
   ]
  },
  {
   "cell_type": "code",
   "execution_count": 18,
   "metadata": {},
   "outputs": [
    {
     "data": {
      "text/plain": [
       "True"
      ]
     },
     "execution_count": 18,
     "metadata": {},
     "output_type": "execute_result"
    }
   ],
   "source": [
    "\"\"\"_this is an example for understanding lambda function_\n",
    "\"\"\"\n",
    "\n",
    "is_even = lambda number: number % 2 == 0 \n",
    "\"\"\"From this lambda function we can simplify the code without writing the whole function\n",
    "   Rather we can  simply write an expression like above.\n",
    "\"\"\"\n",
    "\n",
    "is_even(10)\n",
    "\n",
    "\n"
   ]
  },
  {
   "cell_type": "code",
   "execution_count": 35,
   "metadata": {},
   "outputs": [
    {
     "name": "stdout",
     "output_type": "stream",
     "text": [
      "defaultdict(None, {'apple': 1, 'guava': 2, 'mango': 3})\n"
     ]
    }
   ],
   "source": [
    "from collections import defaultdict\n",
    "\n",
    "fruits = defaultdict()\n",
    "\n",
    "fruits[\"apple\"] = 1\n",
    "fruits[\"guava\"] = 2\n",
    "fruits[\"mango\"] = 3\n",
    "print(fruits)\n"
   ]
  }
 ],
 "metadata": {
  "kernelspec": {
   "display_name": "Python 3",
   "language": "python",
   "name": "python3"
  },
  "language_info": {
   "codemirror_mode": {
    "name": "ipython",
    "version": 3
   },
   "file_extension": ".py",
   "mimetype": "text/x-python",
   "name": "python",
   "nbconvert_exporter": "python",
   "pygments_lexer": "ipython3",
   "version": "3.12.5"
  }
 },
 "nbformat": 4,
 "nbformat_minor": 2
}
